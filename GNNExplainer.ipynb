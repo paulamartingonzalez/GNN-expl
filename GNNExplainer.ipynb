{
  "nbformat": 4,
  "nbformat_minor": 0,
  "metadata": {
    "colab": {
      "name": "GNNExplainer.ipynb",
      "provenance": [],
      "authorship_tag": "ABX9TyP8AsYHpQ8hd7lcKpu8mhzG",
      "include_colab_link": true
    },
    "kernelspec": {
      "name": "python3",
      "display_name": "Python 3"
    },
    "language_info": {
      "name": "python"
    }
  },
  "cells": [
    {
      "cell_type": "markdown",
      "metadata": {
        "id": "view-in-github",
        "colab_type": "text"
      },
      "source": [
        "<a href=\"https://colab.research.google.com/github/paulamartingonzalez/GNN-expl/blob/main/GNNExplainer.ipynb\" target=\"_parent\"><img src=\"https://colab.research.google.com/assets/colab-badge.svg\" alt=\"Open In Colab\"/></a>"
      ]
    },
    {
      "cell_type": "code",
      "metadata": {
        "colab": {
          "base_uri": "https://localhost:8080/"
        },
        "id": "IaXBWY4oD327",
        "outputId": "cb0e05b8-2abe-46a3-8a6b-6634ff166a55"
      },
      "source": [
        "!pip install dgl "
      ],
      "execution_count": 6,
      "outputs": [
        {
          "output_type": "stream",
          "name": "stdout",
          "text": [
            "Requirement already satisfied: dgl in /usr/local/lib/python3.7/dist-packages (0.6.1)\n",
            "Requirement already satisfied: numpy>=1.14.0 in /usr/local/lib/python3.7/dist-packages (from dgl) (1.21.5)\n",
            "Requirement already satisfied: requests>=2.19.0 in /usr/local/lib/python3.7/dist-packages (from dgl) (2.23.0)\n",
            "Requirement already satisfied: networkx>=2.1 in /usr/local/lib/python3.7/dist-packages (from dgl) (2.6.3)\n",
            "Requirement already satisfied: scipy>=1.1.0 in /usr/local/lib/python3.7/dist-packages (from dgl) (1.4.1)\n",
            "Requirement already satisfied: idna<3,>=2.5 in /usr/local/lib/python3.7/dist-packages (from requests>=2.19.0->dgl) (2.10)\n",
            "Requirement already satisfied: urllib3!=1.25.0,!=1.25.1,<1.26,>=1.21.1 in /usr/local/lib/python3.7/dist-packages (from requests>=2.19.0->dgl) (1.24.3)\n",
            "Requirement already satisfied: certifi>=2017.4.17 in /usr/local/lib/python3.7/dist-packages (from requests>=2.19.0->dgl) (2021.10.8)\n",
            "Requirement already satisfied: chardet<4,>=3.0.2 in /usr/local/lib/python3.7/dist-packages (from requests>=2.19.0->dgl) (3.0.4)\n"
          ]
        }
      ]
    },
    {
      "cell_type": "code",
      "metadata": {
        "id": "8aC2wp6rD5KO",
        "colab": {
          "base_uri": "https://localhost:8080/"
        },
        "outputId": "976f1ed7-a3e2-4e56-861b-0c147e706129"
      },
      "source": [
        "import dgl\n",
        "import torch\n",
        "import torch.nn as nn\n",
        "import torch.nn.functional as F\n",
        "from dgl.dataloading import GraphDataLoader\n",
        "from torch.utils.data.sampler import SubsetRandomSampler\n",
        "from dgl.nn import GraphConv,EdgeWeightNorm\n",
        "from random import randint\n",
        "from torch.utils.data import DataLoader\n",
        "from scipy.sparse import coo_matrix\n",
        "from scipy import sparse\n",
        "from functools import partial\n",
        "import pandas as pd\n",
        "import networkx as nx"
      ],
      "execution_count": 7,
      "outputs": [
        {
          "output_type": "stream",
          "name": "stderr",
          "text": [
            "Using backend: pytorch\n"
          ]
        }
      ]
    },
    {
      "cell_type": "markdown",
      "metadata": {
        "id": "_4a8YYa7MDNU"
      },
      "source": [
        "# Create random graphs for graph classification"
      ]
    },
    {
      "cell_type": "code",
      "metadata": {
        "colab": {
          "base_uri": "https://localhost:8080/"
        },
        "id": "Mwly_px1D6jo",
        "outputId": "e2122bca-20ef-4f51-fd46-7bb8b66a75ae"
      },
      "source": [
        "gs=[]\n",
        "node_number = 20\n",
        "initial_nodes = 2\n",
        "node_feats=4\n",
        "\n",
        "\n",
        "for i in range(25):\n",
        "    G = nx.barabasi_albert_graph(node_number, initial_nodes)\n",
        "    A = nx.adjacency_matrix(G)\n",
        "    g = dgl.DGLGraph(A)\n",
        "    g.ndata['h_n'] = torch.randn(g.num_nodes(), node_feats)\n",
        "    label = randint(0, 1)\n",
        "    gs.append((g,label))"
      ],
      "execution_count": 8,
      "outputs": [
        {
          "output_type": "stream",
          "name": "stderr",
          "text": [
            "/usr/local/lib/python3.7/dist-packages/dgl/base.py:45: DGLWarning: Recommend creating graphs by `dgl.graph(data)` instead of `dgl.DGLGraph(data)`.\n",
            "  return warnings.warn(message, category=category, stacklevel=1)\n"
          ]
        }
      ]
    },
    {
      "cell_type": "markdown",
      "metadata": {
        "id": "nWsQaDvpMGkh"
      },
      "source": [
        "# Define model"
      ]
    },
    {
      "cell_type": "code",
      "metadata": {
        "id": "IzX1NRjJGhpW"
      },
      "source": [
        "class GCN(nn.Module):\n",
        "    def __init__(self, in_feats, h_feats, num_classes):\n",
        "        super(GCN, self).__init__()\n",
        "        self.conv1 = GraphConv(in_feats, h_feats)\n",
        "        self.conv2 = GraphConv(h_feats, num_classes)\n",
        "        self.w = EdgeWeightNorm()\n",
        "        self.out_act = nn.Sigmoid()\n",
        "\n",
        "    def forward(self, g, in_feat):\n",
        "        h = self.conv1(g, in_feat)\n",
        "        h = F.relu(h)\n",
        "        h = self.conv2(g, h)\n",
        "        g.ndata['h'] = h\n",
        "        return self.out_act(dgl.mean_nodes(g, 'h'))"
      ],
      "execution_count": 9,
      "outputs": []
    },
    {
      "cell_type": "markdown",
      "metadata": {
        "id": "Osh0y_9jMKFL"
      },
      "source": [
        "# Dataloader"
      ]
    },
    {
      "cell_type": "code",
      "metadata": {
        "id": "CWDdNWfdHxp_"
      },
      "source": [
        "def collate(samples):\n",
        "    # The input `samples` is a list of pairs\n",
        "    #  (graph, label).\n",
        "    graphs, labels = map(list, zip(*samples))\n",
        "    batched_graph = dgl.batch(graphs)\n",
        "    return batched_graph, torch.tensor(labels)"
      ],
      "execution_count": 10,
      "outputs": []
    },
    {
      "cell_type": "code",
      "metadata": {
        "id": "BzfKlhQdH-63"
      },
      "source": [
        "train_dataloader = DataLoader(gs, batch_size=int(10), shuffle=True,\n",
        "                            collate_fn=collate)"
      ],
      "execution_count": 11,
      "outputs": []
    },
    {
      "cell_type": "markdown",
      "metadata": {
        "id": "ISr7o9jTMMYV"
      },
      "source": [
        "# Train"
      ]
    },
    {
      "cell_type": "code",
      "metadata": {
        "id": "dzFsDYmkHuIa",
        "colab": {
          "base_uri": "https://localhost:8080/"
        },
        "outputId": "fa9915c6-3e3c-406c-de5e-bc6067999806"
      },
      "source": [
        "# Create the model with given dimensions\n",
        "model = GCN(4, 16, 1)\n",
        "optimizer = torch.optim.Adam(model.parameters(), lr=0.01)\n",
        "loss_func = nn.BCELoss()\n",
        "\n",
        "for epoch in range(20):\n",
        "    for batched_graph, labels in train_dataloader:\n",
        "        #edge_weight = (torch.randn(batched_graph.num_edges()) ** 2).requires_grad_() \n",
        "        #edge_weight = torch.tensor(batched_graph.adj(scipy_fmt='coo').todense())\n",
        "        pred = model(batched_graph, batched_graph.ndata['h_n'].float())\n",
        "        loss = loss_func(pred.round(), labels.unsqueeze(1).float())\n",
        "        optimizer.zero_grad()\n",
        "        loss.backward()\n",
        "        optimizer.step()\n"
      ],
      "execution_count": 12,
      "outputs": [
        {
          "output_type": "stream",
          "name": "stderr",
          "text": [
            "/usr/local/lib/python3.7/dist-packages/torch/autocast_mode.py:141: UserWarning: User provided device_type of 'cuda', but CUDA is not available. Disabling\n",
            "  warnings.warn('User provided device_type of \\'cuda\\', but CUDA is not available. Disabling')\n"
          ]
        }
      ]
    },
    {
      "cell_type": "markdown",
      "metadata": {
        "id": "01MM27PjMWFf"
      },
      "source": [
        "# Get node importances"
      ]
    },
    {
      "cell_type": "markdown",
      "metadata": {
        "id": "4S9uX24FOYfV"
      },
      "source": [
        "Select one graph:"
      ]
    },
    {
      "cell_type": "code",
      "metadata": {
        "id": "LuCDHa-eNVlH"
      },
      "source": [
        "graphs = dgl.unbatch(batched_graph)\n",
        "G = graphs[2]\n",
        "edge_weight = (torch.randn(G.num_edges()) ** 2).requires_grad_() "
      ],
      "execution_count": 13,
      "outputs": []
    },
    {
      "cell_type": "code",
      "metadata": {
        "colab": {
          "base_uri": "https://localhost:8080/",
          "height": 318
        },
        "id": "-mn439jONgT5",
        "outputId": "cf10ca2e-512f-47d5-aa73-6a0aab7a9993"
      },
      "source": [
        "nx_G = G.to_networkx().to_undirected()\n",
        "# Kamada-Kawaii layout usually looks pretty for arbitrary graphs\n",
        "pos = nx.kamada_kawai_layout(nx_G)\n",
        "nx.draw(nx_G, pos, with_labels=True, node_color=[[.7, .7, .7]])"
      ],
      "execution_count": 14,
      "outputs": [
        {
          "output_type": "display_data",
          "data": {
            "image/png": "[encoded data removed]",
            "text/plain": [
              "<Figure size 432x288 with 1 Axes>"
            ]
          },
          "metadata": {}
        }
      ]
    },
    {
      "cell_type": "markdown",
      "source": [
        "GNN explainer implementation taken from [https://github.com/ShaharGottlieb/GNNExplainer_DGL](https://github.com/ShaharGottlieb/GNNExplainer_DGL)"
      ],
      "metadata": {
        "id": "BhXW2Pn8_xh7"
      }
    },
    {
      "cell_type": "code",
      "source": [
        "from math import sqrt\n",
        "from tqdm import tqdm\n",
        "import copy\n",
        "import numpy as np\n",
        "import dgl\n",
        "import torch\n",
        "import torch.nn as nn\n",
        "import networkx as nx\n",
        "import matplotlib.pyplot as plt\n",
        "import matplotlib.patches as mpatches\n",
        "\n",
        "\n",
        "class ExplainerTags:\n",
        "    ORIGINAL_ID = '_explainer_original_id'\n",
        "    EDGE_MASK = '_explainer_edge_mast'\n",
        "    NODE_FEATURES = 'explainer_feature'\n",
        "\n",
        "\n",
        "# UDF for message passing. this will execute after all the previous messages, and mask the final massage.\n",
        "def mask_message(edges):\n",
        "    edata = edges.data['m']\n",
        "    emask = edges.data[ExplainerTags.EDGE_MASK].sigmoid().view(-1, 1)\n",
        "    masked_message = (edata.view(edata.shape[0], -1) * emask).view(edata.shape)\n",
        "    return {'m': masked_message}\n",
        "\n",
        "\n",
        "# workaround to hijack the \"update_all\" function of DGL\n",
        "class ExplainGraph(dgl.DGLGraph):\n",
        "    def update_all(self, message_func, reduce_func, apply_node_func=None, etype=None):\n",
        "        super().apply_edges(message_func)\n",
        "        super().update_all(mask_message, reduce_func, apply_node_func, etype)\n",
        "\n",
        "\n",
        "class GNNExplainer:\n",
        "    \"\"\"\n",
        "        TODO - add info\n",
        "    \"\"\"\n",
        "    # hyper parameters, taken from the original paper\n",
        "    params = {\n",
        "        'edge_size': 0.005,\n",
        "        'feat_size': 0.5,\n",
        "        'edge_ent': 1.0,\n",
        "        'feat_ent': 0.1,\n",
        "        'eps': 1e-15\n",
        "    }\n",
        "\n",
        "    def __init__(self, graph: dgl.DGLGraph, model: nn.Module, num_hops: int,\n",
        "                 epochs: int = 100, lr: float = 0.01,\n",
        "                 mask_threshold: float = 0.5, edge_size: float = 0.005, feat_size: float = 0.1):\n",
        "        \"\"\"\n",
        "        :param graph: dgl base graph\n",
        "        :param model: model to explain\n",
        "        :param num_hops: number of message passing layers in model\n",
        "        :param epochs: number of epochs to optimize explainer\n",
        "        :param lr: learning rate\n",
        "        :param mask_threshold: threshold for hard-mask at return\n",
        "        \"\"\"\n",
        "        self.g: dgl.DGLGraph = graph\n",
        "        self.model = model\n",
        "        self.epochs = epochs\n",
        "        self.lr = lr\n",
        "        self.threshold = mask_threshold\n",
        "        self.num_hops = num_hops\n",
        "        self.feature_mask = None\n",
        "        self.params['edge_size'] = edge_size\n",
        "        self.params['feat_size'] = feat_size\n",
        "        self.nfeat = ExplainerTags.NODE_FEATURES\n",
        "        for module in self.model.modules():\n",
        "            if hasattr(module, '_allow_zero_in_degree'):\n",
        "                module._allow_zero_in_degree = True\n",
        "\n",
        "    def __set_masks__(self, g: dgl.DGLGraph):\n",
        "        \"\"\" set masks for edges and features \"\"\"\n",
        "        num_feat = g.ndata[self.nfeat].shape[1:]\n",
        "        self.feature_mask = nn.Parameter(torch.randn(num_feat) * 0.1)\n",
        "\n",
        "        std = nn.init.calculate_gain('relu') * sqrt(2.0 / (2 * g.num_nodes()))\n",
        "        g.edata[ExplainerTags.EDGE_MASK] = nn.Parameter(torch.randn(g.num_edges()) * std)\n",
        "\n",
        "    @staticmethod\n",
        "    def __apply_feature_mask__(feat, mask):\n",
        "        mask_sig = mask.view(1, -1).sigmoid()\n",
        "        return feat * mask_sig\n",
        "\n",
        "    def __loss__(self, g, node_idx, log_logits, pred_label):\n",
        "        # prediction loss\n",
        "        if node_idx is None:  # graph classification\n",
        "            loss = -log_logits.view(-1)[pred_label]\n",
        "        else:\n",
        "            loss = -log_logits[node_idx, pred_label[node_idx]]\n",
        "\n",
        "        # edge loss\n",
        "        me = g.edata[ExplainerTags.EDGE_MASK].sigmoid()\n",
        "        loss = loss + torch.sum(me) * self.params['edge_size']  # edge regularization - subgraph size\n",
        "        entropy = -me * torch.log(me + self.params['eps']) - (1 - me) * torch.log(1 - me + self.params['eps'])\n",
        "        loss = loss + self.params['edge_ent'] * entropy.mean()  # edge los: entropy + regularization\n",
        "\n",
        "        # node features loss\n",
        "        mn = self.feature_mask.sigmoid()\n",
        "        loss = loss + torch.mean(mn) * self.params['feat_size']  # node feature regularization\n",
        "        entropy = -mn * torch.log(mn + self.params['eps']) - (1 - mn) * torch.log(1 - mn + self.params['eps'])\n",
        "        loss = loss + self.params['feat_ent'] * entropy.mean()  # node feature los: entropy + regularization\n",
        "        # print(log_logits, loss)\n",
        "        return loss\n",
        "\n",
        "    def _predict(self, graph, model, node_id, feat_mask=None):\n",
        "        model.eval()\n",
        "        feat = graph.ndata[self.nfeat]\n",
        "        if feat_mask is not None:\n",
        "            feat = feat * feat_mask\n",
        "        with torch.no_grad():\n",
        "            log_logits = model(graph, feat)\n",
        "            pred_label = log_logits.argmax(dim=-1)\n",
        "\n",
        "        if node_id is None:   # graph classification\n",
        "            return log_logits, pred_label\n",
        "        else:    # node classification\n",
        "            return log_logits[node_id], pred_label[node_id]\n",
        "\n",
        "    def _create_subgraph(self, node_idx):\n",
        "        \"\"\" get all nodes that contribute to the computation of node's embedding \"\"\"\n",
        "        if node_idx is None:  # graph classification\n",
        "            sub_g = copy.deepcopy(self.g)\n",
        "            sub_g.ndata[ExplainerTags.ORIGINAL_ID] = torch.range(0, self.g.num_nodes() - 1, dtype=torch.int)\n",
        "        else:\n",
        "            nodes = torch.tensor([node_idx])\n",
        "            eid_list = []\n",
        "            for _ in range(self.num_hops):\n",
        "                predecessors, _, eid = self.g.in_edges(nodes, form='all')\n",
        "                eid_list.extend(eid)\n",
        "                predecessors = torch.flatten(predecessors).unique()\n",
        "                nodes = torch.cat([nodes, predecessors])\n",
        "                nodes = torch.unique(nodes)\n",
        "            eid_list = list(np.unique(np.array([eid_list])))\n",
        "            sub_g = dgl.edge_subgraph(self.g, eid_list)  # TODO - handle heterogeneous graphs\n",
        "            sub_g.ndata[ExplainerTags.ORIGINAL_ID] = sub_g.ndata[dgl.NID]\n",
        "        return sub_g\n",
        "\n",
        "    def explain_node(self, node_idx):\n",
        "        \"\"\" main function - calculate explanation \"\"\"\n",
        "        # get prediction label\n",
        "        self.model.eval()\n",
        "        feat = self.g.ndata[self.nfeat]\n",
        "        device = feat.device\n",
        "        with torch.no_grad():\n",
        "            log_logits = self.model(self.g, feat)\n",
        "            pred_label = log_logits.argmax(dim=-1)\n",
        "\n",
        "        # create initial subgraph (all nodes and edges that contribute to the explanation)\n",
        "        subgraph = self._create_subgraph(node_idx)\n",
        "        if node_idx is None:  # graph classification\n",
        "            new_node_id = None\n",
        "            pred_label = pred_label\n",
        "        else:  # node classification\n",
        "            new_node_id = np.where(subgraph.ndata[ExplainerTags.ORIGINAL_ID] == node_idx)[0][0]\n",
        "            pred_label = pred_label[subgraph.ndata[ExplainerTags.ORIGINAL_ID]]\n",
        "\n",
        "        # \"trick\" the graph so we can hijack its calls\n",
        "        original_graph_class = subgraph.__class__\n",
        "        subgraph.__class__ = ExplainGraph  # super hacky, but i find it elegant in it's own way.\n",
        "\n",
        "        # set feature and edge masks\n",
        "        self.__set_masks__(subgraph)\n",
        "        feat = subgraph.ndata[self.nfeat]\n",
        "        # move to device\n",
        "        self.feature_mask.to(device)\n",
        "        subgraph.to(device)\n",
        "\n",
        "        # start optimizing\n",
        "        optimizer = torch.optim.Adam([self.feature_mask, subgraph.edata[ExplainerTags.EDGE_MASK]], lr=self.lr)\n",
        "\n",
        "        pbar = tqdm(total=self.epochs)\n",
        "        pbar.set_description('Explaining node {}'.format(node_idx))\n",
        "        # training loop\n",
        "        for epoch in range(1, self.epochs + 1):\n",
        "            h = self.__apply_feature_mask__(feat, self.feature_mask)  # soft mask features\n",
        "            log_logits = self.model(subgraph, h)         # get prediction (will mask edges inside dgl.graph.update_all)\n",
        "            loss = self.__loss__(subgraph, new_node_id, log_logits, pred_label)\n",
        "            optimizer.zero_grad()\n",
        "            loss.backward()\n",
        "            optimizer.step()\n",
        "            # print(loss.detach())\n",
        "            pbar.update(1)\n",
        "        pbar.close()\n",
        "        subgraph.__class__ = original_graph_class\n",
        "\n",
        "        # get hard node feature mask and edge mask\n",
        "        node_feat_mask = self.feature_mask.detach().sigmoid() > self.threshold\n",
        "        edge_mask = subgraph.edata[ExplainerTags.EDGE_MASK].detach().sigmoid()\n",
        "        subgraph.remove_edges(np.where(edge_mask < self.threshold)[0])\n",
        "\n",
        "        # remove isolated nodes from subgraph\n",
        "        isolated_nodes = np.where((subgraph.in_degrees() == 0) & (subgraph.out_degrees() == 0))[0]\n",
        "        if node_idx is not None:  # node classification\n",
        "            # don't delete our node in any case..\n",
        "            isolated_nodes = isolated_nodes[isolated_nodes != new_node_id]\n",
        "        if sum(isolated_nodes) != subgraph.number_of_nodes():\n",
        "            subgraph.remove_nodes(isolated_nodes)\n",
        "        return subgraph, node_feat_mask\n",
        "\n",
        "    def test_explanation(self, node_id, subgraph, feat_mask):\n",
        "        \"\"\" print explanation results- reduced size, and accuracy\n",
        "        :param node_id: original node id which we explained\n",
        "        :param subgraph: result from GNNExplainer.explain_node\n",
        "        :param feat_mask: result from GNNExplainer.explain_node\n",
        "        \"\"\"\n",
        "        # get node prediction for original task\n",
        "        log_logit_original, label_original = self._predict(self.g, self.model, node_id)\n",
        "        # mapping to new subgraph node id\n",
        "        if node_id is None:  # graph classification\n",
        "            new_node_id = None\n",
        "        else:   # node classification\n",
        "            new_node_id = np.where(subgraph.ndata[ExplainerTags.ORIGINAL_ID] == node_id)[0][0]\n",
        "        # current prediction results\n",
        "        log_logit, label = self._predict(subgraph, self.model, new_node_id, feat_mask)\n",
        "        # create subgraph needed for computation, for size reference\n",
        "        origin_sub_g = self._create_subgraph(node_id)\n",
        "        # print results\n",
        "        print(\"subgraph size before masking (V,E)=({}, {})\".format(origin_sub_g.num_nodes(), origin_sub_g.num_edges()))\n",
        "        print(\"subgraph size after masking  (V,E)=({}, {})\".format(subgraph.num_nodes(), subgraph.num_edges()))\n",
        "        print(\"num features before masking: {}\".format(torch.numel(feat_mask)))\n",
        "        print(\"num features after masking: {}\".format(feat_mask.sum()))\n",
        "        print(\"log_logits before masking: {}\".format(log_logit_original))\n",
        "        print(\"log_logits after masking: {}\".format(log_logit))\n",
        "        print(\"label before masking: {}\".format(label_original))\n",
        "        print(\"label after masking: {}\".format(label))\n",
        "\n",
        "    def _visualize(self, subgraph, nlabel_mapping=None, title=\"\"):\n",
        "        num_classes = int(torch.max(self.g.ndata['label']).item()) + 1\n",
        "        nx_g = dgl.to_networkx(subgraph, node_attrs=['label', ExplainerTags.ORIGINAL_ID])\n",
        "        mapping = {i: nx_g.nodes[i][ExplainerTags.ORIGINAL_ID].item() for i in nx_g.nodes.keys()}\n",
        "        node_labels = [nx_g.nodes[i]['label'].item() for i in nx_g.nodes.keys()]\n",
        "\n",
        "        cmap = plt.get_cmap('cool', num_classes)\n",
        "        cmap.set_under('gray')\n",
        "\n",
        "        node_kwargs = {'node_size': 400, 'cmap': cmap, 'node_color': node_labels, 'vmin': 0, 'vmax': num_classes-1}\n",
        "        label_kwargs = {'labels': mapping, 'font_size': 10}\n",
        "\n",
        "        pos = nx.spring_layout(nx_g)\n",
        "        ax = plt.gca()\n",
        "        for source, target, data in nx_g.edges(data=True):\n",
        "            ax.annotate(\n",
        "                '', xy=pos[target], xycoords='data', xytext=pos[source],\n",
        "                textcoords='data', arrowprops=dict(\n",
        "                    arrowstyle=\"->\",\n",
        "                    alpha=1.0,  # max(data['att'], 0.1), # TODO - change for transparent visualization mode\n",
        "                    shrinkA=sqrt(node_kwargs['node_size']) / 2.0,\n",
        "                    shrinkB=sqrt(node_kwargs['node_size']) / 2.0,\n",
        "                    connectionstyle=\"arc3,rad=0.1\",\n",
        "                ))\n",
        "        nx.draw_networkx_labels(nx_g, pos, **label_kwargs)\n",
        "        nx.draw_networkx_nodes(nx_g, pos, **node_kwargs)\n",
        "        if nlabel_mapping is None:\n",
        "            nlabel_mapping = {i: i for i in range(num_classes)}\n",
        "        patch_list = [mpatches.Patch(color=cmap(i), label=nlabel_mapping[i]) for i in range(num_classes)]\n",
        "        ax.legend(handles=patch_list, title=\"Label\", loc=1)\n",
        "        if title is not None:\n",
        "            plt.title(title)\n",
        "        plt.show()\n",
        "\n",
        "    def visualize(self, subgraph, node_id, nlabel_mapping=None, title=\"\"):\n",
        "        \"\"\"\n",
        "        visualize explanation\n",
        "        :param subgraph: result from GNNExplainer.explain_node\n",
        "        :param node_id: node id used to explain\n",
        "        :param nlabel_mapping: mapping between node label to text, to be printed in legend\n",
        "        :param title: optional title for graph\n",
        "        \"\"\"\n",
        "        self._visualize(self._create_subgraph(node_id), nlabel_mapping, title)\n",
        "        self._visualize(subgraph, nlabel_mapping, title)\n",
        "\n",
        "\n"
      ],
      "metadata": {
        "id": "JM4ch9FI_c16"
      },
      "execution_count": 15,
      "outputs": []
    },
    {
      "cell_type": "markdown",
      "metadata": {
        "id": "lrDUKGzHOaUS"
      },
      "source": [
        "Try with our random graphs"
      ]
    },
    {
      "cell_type": "code",
      "source": [
        "model.eval()\n",
        "num_hops = 2\n",
        "graph_label = 178\n",
        "g = G\n",
        "g.ndata[ExplainerTags.NODE_FEATURES] = g.ndata['h_n'].float().to(torch.device(\"cpu\"))\n",
        "explainer = GNNExplainer(g, model, num_hops, epochs=100, edge_size=0.05, feat_size=0)\n",
        "subgraph, feat_mask = explainer.explain_node(None)\n",
        "explainer.test_explanation(None, subgraph, feat_mask)\n"
      ],
      "metadata": {
        "colab": {
          "base_uri": "https://localhost:8080/"
        },
        "id": "SmUXZIcx_8K1",
        "outputId": "a63999fc-3e9c-4903-da75-248d215496a9"
      },
      "execution_count": null,
      "outputs": [
        {
          "output_type": "stream",
          "name": "stderr",
          "text": [
            "/usr/local/lib/python3.7/dist-packages/ipykernel_launcher.py:124: UserWarning: torch.range is deprecated and will be removed in a future release because its behavior is inconsistent with Python's range builtin. Instead, use torch.arange, which produces values in [start, end).\n",
            "Explaining node None:   0%|          | 0/100 [00:00<?, ?it/s]/usr/local/lib/python3.7/dist-packages/torch/autocast_mode.py:141: UserWarning: User provided device_type of 'cuda', but CUDA is not available. Disabling\n",
            "  warnings.warn('User provided device_type of \\'cuda\\', but CUDA is not available. Disabling')\n",
            "Explaining node None: 100%|██████████| 100/100 [00:00<00:00, 168.25it/s]"
          ]
        }
      ]
    },
    {
      "cell_type": "code",
      "source": [
        "label_mapping = {0: 'C', 1: 'N', 2: 'O', 3: 'F', 4: 'I', 5: 'Cl', 6: 'Br'}\n",
        "explainer.visualize(subgraph, None, label_mapping, \"Mutagenic label {}\".format(dataset.labels[graph_label]))"
      ],
      "metadata": {
        "colab": {
          "base_uri": "https://localhost:8080/",
          "height": 158
        },
        "id": "sUQ4yCfHAQ2f",
        "outputId": "afa7fd3d-f57f-4701-e30b-0becdf037109"
      },
      "execution_count": 3,
      "outputs": [
        {
          "output_type": "error",
          "ename": "NameError",
          "evalue": "ignored",
          "traceback": [
            "\u001b[0;31m---------------------------------------------------------------------------\u001b[0m",
            "\u001b[0;31mNameError\u001b[0m                                 Traceback (most recent call last)",
            "\u001b[0;32m<ipython-input-3-b10445e536e2>\u001b[0m in \u001b[0;36m<module>\u001b[0;34m()\u001b[0m\n\u001b[0;32m----> 1\u001b[0;31m \u001b[0mexplainer\u001b[0m\u001b[0;34m\u001b[0m\u001b[0;34m\u001b[0m\u001b[0m\n\u001b[0m",
            "\u001b[0;31mNameError\u001b[0m: name 'explainer' is not defined"
          ]
        }
      ]
    }
  ]
}